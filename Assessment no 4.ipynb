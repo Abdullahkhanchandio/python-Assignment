{
 "cells": [
  {
   "cell_type": "code",
   "execution_count": 1,
   "metadata": {},
   "outputs": [
    {
     "name": "stdout",
     "output_type": "stream",
     "text": [
      "{'first_name': 'Abdullah', 'last_name ': 'chandio', 'age ': 19, 'city ': 'Hyderabad'}\n",
      "{'first_name': 'Abdullah', 'last_name ': 'chandio', 'age ': 19, 'city ': 'Hyderabad', 'qualification': 'Intermediate'}\n",
      "{'first_name': 'Abdullah', 'last_name ': 'chandio', 'age ': 19, 'city ': 'Hyderabad', 'qualification': 'Graduate'}\n",
      "{'first_name': 'Abdullah', 'last_name ': 'chandio', 'age ': 19, 'city ': 'Hyderabad'}\n"
     ]
    }
   ],
   "source": [
    "data = {\n",
    "    \"first_name\": \"Abdullah\",\n",
    "    \"last_name \": \"chandio\",\n",
    "    \"age \": 19,\n",
    "    \"city \": \"Hyderabad\"\n",
    "}\n",
    "print(data)\n",
    "data[\"qualification\"] = \"Intermediate\"\n",
    "print(data)\n",
    "data[\"qualification\"] = \"Graduate\"\n",
    "print(data)\n",
    "del data[\"qualification\"]\n",
    "print (data)\n"
   ]
  },
  {
   "cell_type": "code",
   "execution_count": null,
   "metadata": {},
   "outputs": [],
   "source": [
    "cities = {\n",
    "    \"karachi\": {\n",
    "        \"country \": \"Pakistan \",\n",
    "        \"population \": \"14.91 million\",\n",
    "        \"fact \": \"karachi city famous places\"\n",
    "    },\n",
    "    \"London\": {\n",
    "        \"country \": \"England \",\n",
    "        \"population \": \"8.9 million\",\n",
    "        \"fact \": \"holds some iconic buildings as, Big Ben and the London-eye\"\n",
    "    },\n",
    "    \"Paris\": {\n",
    "        \"country \": \"France \",\n",
    "        \"population \": \"2.141 million\",\n",
    "        \"fact \": \"Capital of France and holds the Iconic Eiffel Tower\"\n",
    "    },\n",
    "}\n",
    "print(\"for karachi\")\n",
    "print(cities[\"karachi\"])\n",
    "print(\"for London\")\n",
    "print(cities[\"London\"])\n",
    "print(\"for Paris\")\n",
    "print(cities[\"Paris\"])\n"
   ]
  },
  {
   "cell_type": "code",
   "execution_count": null,
   "metadata": {},
   "outputs": [],
   "source": [
    "age= int(input(\"enter your age \"))\n",
    "if age <= 3:\n",
    "    print(\"your ticket is free\")\n",
    "elif age > 3 and age <= 12:\n",
    "    print(\"pay $10\")\n",
    "elif age > 12:\n",
    "    print(\"pay $15\")\n",
    "else:\n",
    "    print(\"enter correct age\")\n"
   ]
  },
  {
   "cell_type": "code",
   "execution_count": null,
   "metadata": {},
   "outputs": [],
   "source": [
    "def favorite_book(name):\n",
    "    print(\"as One of my favorite books is\" , name)\n",
    "\n",
    "favorite_book(\"poor dad rich dad\")"
   ]
  },
  {
   "cell_type": "code",
   "execution_count": null,
   "metadata": {},
   "outputs": [],
   "source": [
    "guessesTaken = 0\n",
    "number = random.randint(1, 30)\n",
    "print(\"guess a number between 1 and 30\")\n",
    "while guessesTaken < 3:\n",
    "    guess = int(input(\"take a guess \"))\n",
    "    guessesTaken = guessesTaken + 1\n",
    "    if guess < number:\n",
    "        print('Your guess is too low.')\n",
    "    if guess > number:\n",
    "        print('Your guess is too high.')\n",
    "    if guess == number:\n",
    "        break\n",
    "if guess == number:\n",
    "    guessesTaken = str(guessesTaken)\n",
    "    print(\"your guess is correct\")\n",
    "if guess != number:\n",
    "    number = str(number)\n",
    "    print(\"wrong guess\")\n"
   ]
  },
  {
   "cell_type": "code",
   "execution_count": null,
   "metadata": {},
   "outputs": [],
   "source": []
  },
  {
   "cell_type": "code",
   "execution_count": null,
   "metadata": {},
   "outputs": [],
   "source": []
  }
 ],
 "metadata": {
  "kernelspec": {
   "display_name": "Python 3",
   "language": "python",
   "name": "python3"
  },
  "language_info": {
   "codemirror_mode": {
    "name": "ipython",
    "version": 3
   },
   "file_extension": ".py",
   "mimetype": "text/x-python",
   "name": "python",
   "nbconvert_exporter": "python",
   "pygments_lexer": "ipython3",
   "version": "3.7.4"
  }
 },
 "nbformat": 4,
 "nbformat_minor": 2
}
