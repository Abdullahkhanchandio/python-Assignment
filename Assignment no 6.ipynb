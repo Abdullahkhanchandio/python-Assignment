{
 "cells": [
  {
   "cell_type": "code",
   "execution_count": 1,
   "metadata": {},
   "outputs": [
    {
     "name": "stdout",
     "output_type": "stream",
     "text": [
      "honda civic\n",
      "red\n",
      "Honda\n",
      "1500000\n",
      "2019\n",
      "honda civic modified by method\n",
      "bugatti chiron modified by method\n",
      "300000000 modified by method\n"
     ]
    }
   ],
   "source": [
    "class Car():\n",
    "    def __init__(self,model,color,name,price,year):\n",
    "        self.model = model\n",
    "        self.color = color\n",
    "        self.name = name\n",
    "        self.price = price\n",
    "        self.year = year\n",
    "        \n",
    "    def newcar(self, Newname):\n",
    "        self.name = Newname\n",
    "        \n",
    "    def newcar2(self, Newmodel):\n",
    "        self.model = Newmodel\n",
    "        \n",
    "    def newcar3(self, Newprice):\n",
    "        self.price = Newprice\n",
    "        \n",
    "        \n",
    "new = Car(\"honda civic\", \"red\", \"Honda\", \"1500000\", \"2019\")\n",
    "print(new.model)\n",
    "print(new.color)\n",
    "print(new.name)\n",
    "print(new.price)\n",
    "print(new.year)\n",
    "\n",
    "corolla = Car(\"toyota corolla\", \"white\", \"toyota\", \"1800000\", \"2020\")\n",
    "city = Car(\"honda city\", \"black\", \"honda\", \"1200000\", \"2018\")\n",
    "mehran = Car(\"suzuki mehran\", \"gray\", \"suzuki\", \"800000\", \"2017\")\n",
    "audi = Car(\"Audi A1\", \"yellow\", \"Audi\", \"3800000\", \"2018\")\n",
    "\n",
    "new.newcar(\"bugatti chiron\")\n",
    "print(new.model, \"modified by method\")\n",
    "\n",
    "new.newcar2(\"bugatti\")\n",
    "print(new.name, \"modified by method\")\n",
    "\n",
    "new.newcar3(\"300000000\")\n",
    "print(new.price, \"modified by method\")"
   ]
  },
  {
   "cell_type": "markdown",
   "metadata": {},
   "source": [
    "q no 2\n",
    "Modularity for easier troubleshooting\n",
    "Reuse of code through inheritance\n",
    "Flexibility through polymorphism\n",
    "Effective problem solving"
   ]
  },
  {
   "cell_type": "markdown",
   "metadata": {},
   "source": [
    "q no 1\n",
    "Object-oriented programming (OOP) refers to a type of computer programming (software design) in which programmers define not only the data type of a data structure, but also the types of operations (functions) that can be applied to the data structure"
   ]
  },
  {
   "cell_type": "markdown",
   "metadata": {},
   "source": [
    "q no 3: functions are simply the ones that we declare in a python program. methods are the functions that we declare in a class"
   ]
  },
  {
   "cell_type": "markdown",
   "metadata": {},
   "source": [
    "q no 4: \n",
    "a) CLASS: A class is a code template for creating objects. Objects have member variables and have behaviour associated with them.\n",
    "\n",
    "b) OBJECT: Object is simply a collection of data (variables) and methods (functions) that act on those data. And, class is a blueprint for the object.\n",
    "\n",
    "c) ATTRIBUTE: attribute is a Python variable that belongs to a class rather than a particular object. It is shared between all the objects of this class and it is defined outside the constructor function, __init__(self,...) , of the class.\n",
    "\n",
    "d) BEHAVIOR: Behave. behave is behavior-driven development, Python style. Behavior-driven development (or BDD) is an agile software development technique that encourages collaboration between developers, QA and non-technical or business participants in a software project."
   ]
  },
  {
   "cell_type": "code",
   "execution_count": null,
   "metadata": {},
   "outputs": [],
   "source": []
  }
 ],
 "metadata": {
  "kernelspec": {
   "display_name": "Python 3",
   "language": "python",
   "name": "python3"
  },
  "language_info": {
   "codemirror_mode": {
    "name": "ipython",
    "version": 3
   },
   "file_extension": ".py",
   "mimetype": "text/x-python",
   "name": "python",
   "nbconvert_exporter": "python",
   "pygments_lexer": "ipython3",
   "version": "3.7.4"
  }
 },
 "nbformat": 4,
 "nbformat_minor": 2
}
