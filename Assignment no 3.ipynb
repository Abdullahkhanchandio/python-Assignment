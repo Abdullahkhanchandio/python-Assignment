{
 "cells": [
  {
   "cell_type": "code",
   "execution_count": 1,
   "metadata": {},
   "outputs": [
    {
     "name": "stdout",
     "output_type": "stream",
     "text": [
      "enter first value: 67\n",
      "enter the operator:/\n",
      "enter second value: 3\n",
      "22.333333333333332\n"
     ]
    }
   ],
   "source": [
    "first = int(input('enter first value: '))\n",
    "operator = input('enter the operator:')\n",
    "second = int(input('enter second value: '))\n",
    "\n",
    "if operator == '+':\n",
    "    ans = first + second\n",
    "    print(ans)\n",
    "elif operator == '-':\n",
    "    ans = first - second\n",
    "    print(ans)\n",
    "elif operator == '*':\n",
    "    ans = first * second\n",
    "    print(ans)\n",
    "elif operator == '/':\n",
    "    ans = first / second\n",
    "    print(ans)\n",
    "elif operator == '**':\n",
    "    ans = first ** second;\n",
    "    print (ans)\n",
    "else:\n",
    "    print('enter correct operator')\n"
   ]
  },
  {
   "cell_type": "code",
   "execution_count": 2,
   "metadata": {},
   "outputs": [
    {
     "name": "stdout",
     "output_type": "stream",
     "text": [
      "18\n",
      "65\n",
      "556\n",
      "90\n"
     ]
    }
   ],
   "source": [
    "check = [\"Abdullah \", 18, \"khan\", 65, 556,  90]\n",
    "for i in check:\n",
    "    if type(i) == int:\n",
    "        print(i)\n"
   ]
  },
  {
   "cell_type": "code",
   "execution_count": 3,
   "metadata": {},
   "outputs": [
    {
     "name": "stdout",
     "output_type": "stream",
     "text": [
      "{'first': 354, 'second': 356, 'third': 636}\n"
     ]
    }
   ],
   "source": [
    "first_dict = {\n",
    "    \"first\": 354,\n",
    "    \"second\": 356\n",
    "}\n",
    "first_dict[\"third\"] = 636\n",
    "print(first_dict)\n"
   ]
  },
  {
   "cell_type": "code",
   "execution_count": 4,
   "metadata": {},
   "outputs": [
    {
     "name": "stdout",
     "output_type": "stream",
     "text": [
      "120\n"
     ]
    }
   ],
   "source": [
    "sumAll = {\n",
    "    \"a\": 45,\n",
    "    \"b\": 54,\n",
    "    \"c\": 21,\n",
    "}\n",
    "print(sum(sumAll.values()))\n"
   ]
  },
  {
   "cell_type": "code",
   "execution_count": 5,
   "metadata": {},
   "outputs": [
    {
     "name": "stdout",
     "output_type": "stream",
     "text": [
      "[24, 80, 67, 60]\n"
     ]
    }
   ],
   "source": [
    "def repeat(x): \n",
    "    _size = len(x) \n",
    "    repeated = [] \n",
    "    for i in range(_size): \n",
    "        k = i + 1\n",
    "        for j in range(k, _size): \n",
    "            if x[i] == x[j] and x[i] not in repeated: \n",
    "                repeated.append(x[i]) \n",
    "    return repeated \n",
    "  \n",
    "list1 = [16, 24, 70, 24, 90, 38, 40,  \n",
    "         80, 80, 67, 67, 60, 60] \n",
    "print (repeat(list1))\n"
   ]
  },
  {
   "cell_type": "code",
   "execution_count": 7,
   "metadata": {},
   "outputs": [
    {
     "name": "stdout",
     "output_type": "stream",
     "text": [
      "enter keyb\n",
      "key is present \n",
      " The value of key is: \n",
      "54\n"
     ]
    }
   ],
   "source": [
    "Mynew = {\n",
    "    \"a\": 45,\n",
    "    \"b\": 54,\n",
    "    \"c\": 21,\n",
    "}\n",
    "key = input(\"enter key\")\n",
    "if key in Mynew.keys():\n",
    "    print(\"key is present \\n The value of key is: \")\n",
    "    print(Mynew[key])\n",
    "else:\n",
    "    print(\"key is not present\")\n"
   ]
  },
  {
   "cell_type": "code",
   "execution_count": null,
   "metadata": {},
   "outputs": [],
   "source": []
  },
  {
   "cell_type": "code",
   "execution_count": null,
   "metadata": {},
   "outputs": [],
   "source": []
  },
  {
   "cell_type": "code",
   "execution_count": null,
   "metadata": {},
   "outputs": [],
   "source": []
  },
  {
   "cell_type": "code",
   "execution_count": null,
   "metadata": {},
   "outputs": [],
   "source": []
  }
 ],
 "metadata": {
  "kernelspec": {
   "display_name": "Python 3",
   "language": "python",
   "name": "python3"
  },
  "language_info": {
   "codemirror_mode": {
    "name": "ipython",
    "version": 3
   },
   "file_extension": ".py",
   "mimetype": "text/x-python",
   "name": "python",
   "nbconvert_exporter": "python",
   "pygments_lexer": "ipython3",
   "version": "3.7.4"
  }
 },
 "nbformat": 4,
 "nbformat_minor": 2
}
