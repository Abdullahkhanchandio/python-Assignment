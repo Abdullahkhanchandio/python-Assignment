{
 "cells": [
  {
   "cell_type": "code",
   "execution_count": 1,
   "metadata": {},
   "outputs": [
    {
     "name": "stdout",
     "output_type": "stream",
     "text": [
      "enter marks for English: 100\n",
      "enter marks for Maths: 99\n",
      "enter marks for Physics: 89\n",
      "enter marks for Chemistry: 70\n",
      "enter marks for Pak Studies: 50\n",
      "your grade is A+\n"
     ]
    }
   ],
   "source": [
    "eng = int(input(\"enter marks for English: \"))\n",
    "math = int(input(\"enter marks for Maths: \"))\n",
    "phy = int(input(\"enter marks for Physics: \"))\n",
    "chem = int(input(\"enter marks for Chemistry: \"))\n",
    "pst = int(input(\"enter marks for Pak Studies: \"))\n",
    "subsTotal = eng+math+phy+chem+pst\n",
    "percent = (subsTotal/500)*100\n",
    "if (percent >80 and percent<=100):\n",
    "    print(\"your grade is A+\")\n",
    "elif (percent >70 and percent<=80):\n",
    "    print(\"your grade is A\")\n",
    "elif (percent >60 and percent<=70):\n",
    "     print(\"your grade is B\")\n",
    "elif (percent >50 and percent<=60):\n",
    "     print(\"your grade is C\")\n",
    "elif (percent >50):\n",
    "     print(\"you have failed\")\n",
    "else:\n",
    "    print(\"enter correct marks\")\n"
   ]
  },
  {
   "cell_type": "code",
   "execution_count": 2,
   "metadata": {},
   "outputs": [
    {
     "name": "stdout",
     "output_type": "stream",
     "text": [
      "enter a number: 7\n",
      "it is odd\n"
     ]
    }
   ],
   "source": [
    "num = int(input(\"enter a number: \"))\n",
    "if (num%2==0):\n",
    "    print(\"it is even\")\n",
    "else:\n",
    "    print(\"it is odd\")\n"
   ]
  },
  {
   "cell_type": "code",
   "execution_count": 3,
   "metadata": {},
   "outputs": [
    {
     "name": "stdout",
     "output_type": "stream",
     "text": [
      "length of given list is  5\n"
     ]
    }
   ],
   "source": [
    "arr = [45, 67, 66, 98, 10]\n",
    "print(\"length of given list is \",len(arr))\n"
   ]
  },
  {
   "cell_type": "code",
   "execution_count": 4,
   "metadata": {},
   "outputs": [
    {
     "name": "stdout",
     "output_type": "stream",
     "text": [
      "the sum of the given list is  286\n"
     ]
    }
   ],
   "source": [
    "arr = [45, 67, 66, 98, 10]\n",
    "print(\"the sum of the given list is \",sum(arr))"
   ]
  },
  {
   "cell_type": "code",
   "execution_count": 5,
   "metadata": {},
   "outputs": [
    {
     "name": "stdout",
     "output_type": "stream",
     "text": [
      "the largest number of the given list is  98\n"
     ]
    }
   ],
   "source": [
    "arr = [45, 67, 66, 98, 10]\n",
    "print(\"the largest number of the given list is \",max(arr))\n"
   ]
  },
  {
   "cell_type": "code",
   "execution_count": 6,
   "metadata": {},
   "outputs": [
    {
     "name": "stdout",
     "output_type": "stream",
     "text": [
      "1\n",
      "1\n",
      "2\n",
      "3\n"
     ]
    }
   ],
   "source": [
    "a = [1, 1, 2, 3, 5, 8, 13, 21, 34, 55, 89]\n",
    "for num in a:\n",
    "    if num<5:\n",
    "        print(num)\n"
   ]
  },
  {
   "cell_type": "code",
   "execution_count": null,
   "metadata": {},
   "outputs": [],
   "source": []
  },
  {
   "cell_type": "code",
   "execution_count": null,
   "metadata": {},
   "outputs": [],
   "source": []
  }
 ],
 "metadata": {
  "kernelspec": {
   "display_name": "Python 3",
   "language": "python",
   "name": "python3"
  },
  "language_info": {
   "codemirror_mode": {
    "name": "ipython",
    "version": 3
   },
   "file_extension": ".py",
   "mimetype": "text/x-python",
   "name": "python",
   "nbconvert_exporter": "python",
   "pygments_lexer": "ipython3",
   "version": "3.7.4"
  }
 },
 "nbformat": 4,
 "nbformat_minor": 2
}
